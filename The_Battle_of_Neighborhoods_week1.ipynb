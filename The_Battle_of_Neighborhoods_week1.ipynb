{
 "cells": [
  {
   "cell_type": "markdown",
   "metadata": {},
   "source": [
    "# Capstone Project - The Battle of the Neighborhoods"
   ]
  },
  {
   "cell_type": "markdown",
   "metadata": {},
   "source": [
    "## Table of Contents\n",
    "\n",
    "<div class=\"alert alert-block alert-info\" style=\"margin-top: 20px\">\n",
    "\n",
    "<font size = 3>\n",
    "\n",
    "1. <a href=\"#item1\"> Introduction: Business Problem </a>\n",
    "\n",
    "2. <a href=\"#item2\"> Data </a>\n",
    "\n",
    "3. <a href=\"#item3\">Methodology</a>\n",
    "\n",
    "4. <a href=\"#item4\">Analysis</a>\n",
    "\n",
    "5. <a href=\"#item5\">Results and Discussion</a>    \n",
    "    \n",
    "6. <a href=\"#item6\">Conclusion</a>    \n",
    "</font>\n",
    "</div>"
   ]
  },
  {
   "cell_type": "markdown",
   "metadata": {},
   "source": [
    "## Introduction: Business Problem <a name=\"introduction\"></a>"
   ]
  },
  {
   "cell_type": "markdown",
   "metadata": {},
   "source": [
    "The aim of this project is to find an optimal location for a restaurant in **Toronto**, Canada. The same approach can be taken for other cities and other businesses as well. The proper location is the key questions for every new businesses specially in dense cities.\n",
    "\n",
    "There are lots of restaurants in Toronto. It is clear that the locations that are already crowded with restaurants are not desirable. Also the preferred location should be as close as possible to the center of the city since it is the place people go to restaurants more often.\n",
    "\n"
   ]
  },
  {
   "cell_type": "markdown",
   "metadata": {},
   "source": [
    "## Data <a name=\"data\"></a>"
   ]
  },
  {
   "cell_type": "markdown",
   "metadata": {},
   "source": [
    "Based on definition of our problem, factors that influence the decission are:\n",
    "* Number of existing restaurants in the neighborhood\n",
    "* Distance of neighborhood from the city center\n",
    "\n",
    "Following data sources are needed to extract/generate the required information:\n",
    "* List of boroughs and neighborhoods of the city of Toronto and their postal codes can be obtained from the following Wikipedia page, https://en.wikipedia.org/wiki/List_of_postal_codes_of_Canada:_M\n",
    "* The geographical coordinates of each postal code can be found using the following URL : http://cocl.us/Geospatial_data\n",
    "* Coordinate of Toronto center can be obtained from geopy library\n",
    "* Foursquare needs to be utilized in order to find the number of restaurants in each neighborhood"
   ]
  }
 ],
 "metadata": {
  "kernelspec": {
   "display_name": "Python",
   "language": "python",
   "name": "conda-env-python-py"
  },
  "language_info": {
   "codemirror_mode": {
    "name": "ipython",
    "version": 3
   },
   "file_extension": ".py",
   "mimetype": "text/x-python",
   "name": "python",
   "nbconvert_exporter": "python",
   "pygments_lexer": "ipython3",
   "version": "3.6.10"
  }
 },
 "nbformat": 4,
 "nbformat_minor": 4
}
